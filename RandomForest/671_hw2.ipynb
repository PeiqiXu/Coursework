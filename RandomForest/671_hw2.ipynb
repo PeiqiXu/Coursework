{
 "cells": [
  {
   "cell_type": "code",
   "execution_count": 117,
   "metadata": {
    "ExecuteTime": {
     "end_time": "2019-02-01T02:29:25.502230Z",
     "start_time": "2019-02-01T02:29:25.483901Z"
    }
   },
   "outputs": [],
   "source": [
    "import numpy as np\n",
    "import pandas as pd\n",
    "import matplotlib.pyplot as plt\n",
    "import itertools as it\n",
    "from itertools import cycle\n",
    "from sklearn.model_selection import train_test_split\n",
    "from scipy import interp\n",
    "from sklearn.ensemble import RandomForestClassifier\n",
    "from sklearn.metrics import classification_report, accuracy_score\n",
    "from sklearn.linear_model import LogisticRegression\n",
    "from sklearn.metrics import f1_score\n",
    "%matplotlib inline"
   ]
  },
  {
   "cell_type": "code",
   "execution_count": 118,
   "metadata": {
    "ExecuteTime": {
     "end_time": "2019-02-01T02:29:27.553023Z",
     "start_time": "2019-02-01T02:29:27.542423Z"
    }
   },
   "outputs": [],
   "source": [
    "inf = pd.read_csv('ProPublica_COMPAS_preprocessed.csv')"
   ]
  },
  {
   "cell_type": "code",
   "execution_count": 119,
   "metadata": {
    "ExecuteTime": {
     "end_time": "2019-02-01T02:29:29.830550Z",
     "start_time": "2019-02-01T02:29:29.184751Z"
    }
   },
   "outputs": [
    {
     "name": "stdout",
     "output_type": "stream",
     "text": [
      "accuracy = 0.650960\n",
      "f1_score = 0.463807\n"
     ]
    }
   ],
   "source": [
    "X=inf.iloc[:,1:12].values\n",
    "y=inf.iloc[:,12].values\n",
    "X_train, X_test, y_train, y_test = train_test_split(X, y, test_size=0.2, random_state=0)\n",
    "\n",
    "# Feature Scaling\n",
    "from sklearn.preprocessing import StandardScaler\n",
    "'''\n",
    "sc = StandardScaler()  \n",
    "X_train = sc.fit_transform(X_train)  \n",
    "X_test = sc.transform(X_test)  \n",
    "'''\n",
    "classifier = RandomForestClassifier(n_estimators=200, random_state=0)  \n",
    "classifier.fit(X_train, y_train)  \n",
    "y_pred = classifier.predict(X_test)\n",
    "#print(classification_report(y_test,y_pred))  \n",
    "print(\"accuracy = %f\" % accuracy_score(y_test, y_pred))\n",
    "print(\"f1_score = %f\" % f1_score(y_test, y_pred, average='binary'))"
   ]
  },
  {
   "cell_type": "code",
   "execution_count": 120,
   "metadata": {
    "ExecuteTime": {
     "end_time": "2019-02-01T02:29:41.798061Z",
     "start_time": "2019-02-01T02:29:41.650090Z"
    }
   },
   "outputs": [
    {
     "name": "stdout",
     "output_type": "stream",
     "text": [
      "Feature ranking:\n",
      "1. p_current_age (0.282375)\n",
      "2. p_charge (0.280407)\n",
      "3. p_age_first_offence (0.262924)\n",
      "4. p_probation (0.070524)\n",
      "5. p_prison (0.037182)\n",
      "6. race_black (0.020276)\n",
      "7. race_white (0.018522)\n",
      "8. race_hispanic (0.012949)\n",
      "9. p_jail30 (0.010928)\n",
      "10. race_asian (0.002111)\n",
      "11. race_native (0.001800)\n"
     ]
    },
    {
     "data": {
      "text/plain": [
       "<function matplotlib.pyplot.show(*args, **kw)>"
      ]
     },
     "execution_count": 120,
     "metadata": {},
     "output_type": "execute_result"
    },
    {
     "data": {
      "image/png": "[encoded data removed]",
      "text/plain": [
       "<Figure size 432x288 with 1 Axes>"
      ]
     },
     "metadata": {},
     "output_type": "display_data"
    }
   ],
   "source": [
    "# Calculate feature importances\n",
    "importances = classifier.feature_importances_\n",
    "std = np.std([tree.feature_importances_ for tree in classifier.estimators_],\n",
    "             axis=0)\n",
    "indices = np.argsort(importances)[::-1]\n",
    "\n",
    "# Print the feature ranking\n",
    "print(\"Feature ranking:\")\n",
    "string=['p_current_age','p_age_first_offence','p_charge','p_jail30','p_prison','p_probation','race_black','race_white','race_hispanic','race_asian','race_native']\n",
    "for f in range(X_train.shape[1]):\n",
    "    n=indices[f]\n",
    "    print(\"%d. %s (%f)\" % (f + 1, string[n], importances[indices[f]]))\n",
    "y_pos = np.arange(len(string))    \n",
    "plt.bar(y_pos, importances, align='center', alpha=0.5)\n",
    "plt.xticks(y_pos)\n",
    "plt.title('Variance Importance')\n",
    "plt.show"
   ]
  },
  {
   "cell_type": "code",
   "execution_count": 121,
   "metadata": {
    "ExecuteTime": {
     "end_time": "2019-02-01T02:29:59.806149Z",
     "start_time": "2019-02-01T02:29:59.245656Z"
    }
   },
   "outputs": [
    {
     "name": "stdout",
     "output_type": "stream",
     "text": [
      "Feature ranking:\n",
      "1. p_age_first_offence (0.605745)\n",
      "2. p_probation (0.171437)\n",
      "3. p_prison (0.110028)\n",
      "4. race_black (0.035844)\n",
      "5. p_jail30 (0.033216)\n",
      "6. race_white (0.021509)\n",
      "7. race_hispanic (0.015034)\n",
      "8. race_asian (0.004143)\n",
      "9. race_native (0.003042)\n"
     ]
    },
    {
     "data": {
      "text/plain": [
       "<function matplotlib.pyplot.show(*args, **kw)>"
      ]
     },
     "execution_count": 121,
     "metadata": {},
     "output_type": "execute_result"
    },
    {
     "data": {
      "image/png": "[encoded data removed]",
      "text/plain": [
       "<Figure size 432x288 with 1 Axes>"
      ]
     },
     "metadata": {},
     "output_type": "display_data"
    }
   ],
   "source": [
    "inf = pd.read_csv('ProPublica_COMPAS_preprocessed.csv')\n",
    "# dropping passed columns \n",
    "inf.drop([\"p_current_age\", \"p_charge\"], axis = 1, inplace = True) \n",
    "X=inf.iloc[:,1:10].values\n",
    "y=inf.iloc[:,10].values\n",
    "X_train, X_test, y_train, y_test = train_test_split(X, y, test_size=0.2, random_state=0)\n",
    "'''\n",
    "# Feature Scaling\n",
    "\n",
    "sc = StandardScaler()  \n",
    "X_train = sc.fit_transform(X_train)  \n",
    "X_test = sc.transform(X_test)  \n",
    "'''\n",
    "classifier = RandomForestClassifier(n_estimators=200, random_state=0)  \n",
    "classifier.fit(X_train, y_train)  \n",
    "# Calculate feature importances\n",
    "importances = classifier.feature_importances_\n",
    "std = np.std([tree.feature_importances_ for tree in classifier.estimators_],\n",
    "             axis=0)\n",
    "indices = np.argsort(importances)[::-1]\n",
    "\n",
    "# Print the feature ranking\n",
    "print(\"Feature ranking:\")\n",
    "string=['p_age_first_offence', 'p_jail30','p_prison','p_probation','race_black','race_white','race_hispanic','race_asian','race_native']\n",
    "for f in range(X_train.shape[1]):\n",
    "    n=indices[f]\n",
    "    print(\"%d. %s (%f)\" % (f + 1, string[n], importances[indices[f]]))\n",
    "y_pos = np.arange(len(string))    \n",
    "plt.bar(y_pos, importances, align='center', alpha=0.5)\n",
    "plt.xticks(y_pos)\n",
    "plt.title('After drop two most importance features')\n",
    "plt.show"
   ]
  },
  {
   "cell_type": "code",
   "execution_count": 122,
   "metadata": {
    "ExecuteTime": {
     "end_time": "2019-02-01T02:30:11.236476Z",
     "start_time": "2019-02-01T02:30:10.552670Z"
    }
   },
   "outputs": [
    {
     "name": "stdout",
     "output_type": "stream",
     "text": [
      "Feature ranking:\n",
      "1. p_age_first_offence (0.422618)\n",
      "2. p_charge (0.362195)\n",
      "3. p_probation (0.092793)\n",
      "4. p_prison (0.050940)\n",
      "5. race_black (0.021434)\n",
      "6. race_white (0.018015)\n",
      "7. p_jail30 (0.014603)\n",
      "8. race_hispanic (0.012783)\n",
      "9. race_asian (0.002449)\n",
      "10. race_native (0.002171)\n"
     ]
    },
    {
     "data": {
      "text/plain": [
       "<function matplotlib.pyplot.show(*args, **kw)>"
      ]
     },
     "execution_count": 122,
     "metadata": {},
     "output_type": "execute_result"
    },
    {
     "data": {
      "image/png": "[encoded data removed]",
      "text/plain": [
       "<Figure size 432x288 with 1 Axes>"
      ]
     },
     "metadata": {},
     "output_type": "display_data"
    }
   ],
   "source": [
    "inf = pd.read_csv('ProPublica_COMPAS_preprocessed.csv')\n",
    "# dropping passed columns \n",
    "inf.drop([\"p_current_age\"], axis = 1, inplace = True) \n",
    "X=inf.iloc[:,1:11].values\n",
    "y=inf.iloc[:,11].values\n",
    "X_train, X_test, y_train, y_test = train_test_split(X, y, test_size=0.2, random_state=0)\n",
    "'''\n",
    "# Feature Scaling\n",
    "\n",
    "sc = StandardScaler()  \n",
    "X_train = sc.fit_transform(X_train)  \n",
    "X_test = sc.transform(X_test)  \n",
    "'''\n",
    "classifier = RandomForestClassifier(n_estimators=200, random_state=0)  \n",
    "classifier.fit(X_train, y_train)  \n",
    "# Calculate feature importances\n",
    "importances = classifier.feature_importances_\n",
    "std = np.std([tree.feature_importances_ for tree in classifier.estimators_],\n",
    "             axis=0)\n",
    "indices = np.argsort(importances)[::-1]\n",
    "\n",
    "# Print the feature ranking\n",
    "print(\"Feature ranking:\")\n",
    "\n",
    "string=['p_age_first_offence', 'p_charge','p_jail30','p_prison','p_probation','race_black','race_white','race_hispanic','race_asian','race_native']\n",
    "for f in range(X_train.shape[1]):\n",
    "    n=indices[f]\n",
    "    print(\"%d. %s (%f)\" % (f + 1, string[n], importances[indices[f]]))\n",
    "y_pos = np.arange(len(string))    \n",
    "plt.bar(y_pos, importances, align='center', alpha=0.5)\n",
    "plt.xticks(y_pos)\n",
    "plt.title('After drop p_current_age feature')\n",
    "plt.show"
   ]
  },
  {
   "cell_type": "code",
   "execution_count": 123,
   "metadata": {
    "ExecuteTime": {
     "end_time": "2019-02-01T02:30:19.011971Z",
     "start_time": "2019-02-01T02:30:18.349041Z"
    }
   },
   "outputs": [
    {
     "name": "stdout",
     "output_type": "stream",
     "text": [
      "Feature ranking:\n",
      "1. p_current_age (0.393186)\n",
      "2. p_age_first_offence (0.367712)\n",
      "3. p_probation (0.107939)\n",
      "4. p_prison (0.058216)\n",
      "5. race_black (0.021874)\n",
      "6. race_white (0.017807)\n",
      "7. p_jail30 (0.015752)\n",
      "8. race_hispanic (0.012853)\n",
      "9. race_asian (0.002670)\n",
      "10. race_native (0.001990)\n"
     ]
    },
    {
     "data": {
      "text/plain": [
       "<function matplotlib.pyplot.show(*args, **kw)>"
      ]
     },
     "execution_count": 123,
     "metadata": {},
     "output_type": "execute_result"
    },
    {
     "data": {
      "image/png": "[encoded data removed]",
      "text/plain": [
       "<Figure size 432x288 with 1 Axes>"
      ]
     },
     "metadata": {},
     "output_type": "display_data"
    }
   ],
   "source": [
    "inf = pd.read_csv('ProPublica_COMPAS_preprocessed.csv')\n",
    "# dropping passed columns \n",
    "inf.drop([\"p_charge\"], axis = 1, inplace = True) \n",
    "X=inf.iloc[:,1:11].values\n",
    "y=inf.iloc[:,11].values\n",
    "X_train, X_test, y_train, y_test = train_test_split(X, y, test_size=0.2, random_state=0)\n",
    "'''\n",
    "# Feature Scaling\n",
    "\n",
    "sc = StandardScaler()  \n",
    "X_train = sc.fit_transform(X_train)  \n",
    "X_test = sc.transform(X_test)  \n",
    "'''\n",
    "classifier = RandomForestClassifier(n_estimators=200, random_state=0)  \n",
    "classifier.fit(X_train, y_train)  \n",
    "# Calculate feature importances\n",
    "importances = classifier.feature_importances_\n",
    "std = np.std([tree.feature_importances_ for tree in classifier.estimators_],\n",
    "             axis=0)\n",
    "indices = np.argsort(importances)[::-1]\n",
    "\n",
    "# Print the feature ranking\n",
    "print(\"Feature ranking:\")\n",
    "string=['p_current_age','p_age_first_offence','p_jail30','p_prison','p_probation','race_black','race_white','race_hispanic','race_asian','race_native']\n",
    "for f in range(X_train.shape[1]):\n",
    "    n=indices[f]\n",
    "    print(\"%d. %s (%f)\" % (f + 1, string[n], importances[indices[f]]))\n",
    "y_pos = np.arange(len(string))    \n",
    "plt.bar(y_pos, importances, align='center', alpha=0.5)\n",
    "plt.xticks(y_pos)\n",
    "plt.title('After drop p_charge feature')\n",
    "plt.show"
   ]
  },
  {
   "cell_type": "code",
   "execution_count": 124,
   "metadata": {
    "ExecuteTime": {
     "end_time": "2019-02-01T02:30:24.950517Z",
     "start_time": "2019-02-01T02:30:24.805998Z"
    }
   },
   "outputs": [
    {
     "name": "stdout",
     "output_type": "stream",
     "text": [
      "Coefficient of Logistic Regression:  [-0.02318424 -0.01950475  0.05029785 -0.32347759 -0.01095193  0.05365585\n",
      "  0.21075362  0.03118087 -0.04006167 -0.75767799  0.25672404]\n",
      "p_current_age (-0.023184)\n",
      "p_age_first_offence (-0.019505)\n",
      "p_charge (0.050298)\n",
      "p_jail30 (-0.323478)\n",
      "p_prison (-0.010952)\n",
      "p_probation (0.053656)\n",
      "race_black (0.210754)\n",
      "race_white (0.031181)\n",
      "race_hispanic (-0.040062)\n",
      "race_asian (-0.757678)\n",
      "race_native (0.256724)\n"
     ]
    },
    {
     "data": {
      "text/plain": [
       "<function matplotlib.pyplot.show(*args, **kw)>"
      ]
     },
     "execution_count": 124,
     "metadata": {},
     "output_type": "execute_result"
    },
    {
     "data": {
      "image/png": "[encoded data removed]",
      "text/plain": [
       "<Figure size 432x288 with 1 Axes>"
      ]
     },
     "metadata": {},
     "output_type": "display_data"
    }
   ],
   "source": [
    "inf = pd.read_csv('ProPublica_COMPAS_preprocessed.csv')\n",
    "X=inf.iloc[:,1:12].values\n",
    "y=inf.iloc[:,12].values\n",
    "X_train, X_test, y_train, y_test = train_test_split(X, y, test_size=0.2, random_state=0)\n",
    "'''\n",
    "sc = StandardScaler()  \n",
    "X_train = sc.fit_transform(X_train)  \n",
    "X_test = sc.transform(X_test)  \n",
    "'''\n",
    "\n",
    "classifier = LogisticRegression(random_state = 0, C=100)\n",
    "classifier.fit(X_train, y_train)\n",
    "coef = classifier.coef_[0]\n",
    "print (\"Coefficient of Logistic Regression: \", coef)\n",
    "string=['p_current_age','p_age_first_offence','p_charge','p_jail30','p_prison','p_probation','race_black','race_white','race_hispanic','race_asian','race_native']\n",
    "for f in range(X_train.shape[1]):\n",
    "    print(\"%s (%f)\" % (string[f], coef[f]))\n",
    "y_pos = np.arange(len(string))    \n",
    "plt.bar(y_pos, coef, align='center', alpha=0.5)\n",
    "plt.xticks(y_pos)\n",
    "plt.title('Coefficient of Logistic Regression')\n",
    "plt.show"
   ]
  },
  {
   "cell_type": "code",
   "execution_count": null,
   "metadata": {},
   "outputs": [],
   "source": []
  }
 ],
 "metadata": {
  "kernelspec": {
   "display_name": "Python 3",
   "language": "python",
   "name": "python3"
  },
  "language_info": {
   "codemirror_mode": {
    "name": "ipython",
    "version": 3
   },
   "file_extension": ".py",
   "mimetype": "text/x-python",
   "name": "python",
   "nbconvert_exporter": "python",
   "pygments_lexer": "ipython3",
   "version": "3.6.5"
  },
  "varInspector": {
   "cols": {
    "lenName": 16,
    "lenType": 16,
    "lenVar": 40
   },
   "kernels_config": {
    "python": {
     "delete_cmd_postfix": "",
     "delete_cmd_prefix": "del ",
     "library": "var_list.py",
     "varRefreshCmd": "print(var_dic_list())"
    },
    "r": {
     "delete_cmd_postfix": ") ",
     "delete_cmd_prefix": "rm(",
     "library": "var_list.r",
     "varRefreshCmd": "cat(var_dic_list()) "
    }
   },
   "types_to_exclude": [
    "module",
    "function",
    "builtin_function_or_method",
    "instance",
    "_Feature"
   ],
   "window_display": false
  }
 },
 "nbformat": 4,
 "nbformat_minor": 2
}
