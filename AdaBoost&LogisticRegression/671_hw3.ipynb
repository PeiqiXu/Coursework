{
 "cells": [
  {
   "cell_type": "code",
   "execution_count": 2,
   "metadata": {
    "ExecuteTime": {
     "end_time": "2019-02-20T00:50:31.828472Z",
     "start_time": "2019-02-20T00:50:30.957381Z"
    }
   },
   "outputs": [],
   "source": [
    "import numpy as np\n",
    "import pandas as pd\n",
    "import matplotlib.pyplot as plt\n",
    "from sklearn import metrics\n",
    "import math\n",
    "import itertools as it\n",
    "from itertools import cycle\n",
    "from sklearn.preprocessing import normalize\n",
    "from sklearn.ensemble import RandomForestClassifier\n",
    "from scipy import optimize"
   ]
  },
  {
   "cell_type": "code",
   "execution_count": 3,
   "metadata": {
    "ExecuteTime": {
     "end_time": "2019-02-20T00:50:32.729549Z",
     "start_time": "2019-02-20T00:50:32.710770Z"
    }
   },
   "outputs": [],
   "source": [
    "train = pd.read_csv('house_votes_84_train.csv')\n",
    "X_tr=train.iloc[:,1:].values\n",
    "y_tr=train.iloc[:,0].values\n",
    "test = pd.read_csv('house_votes_84_test.csv')\n",
    "X_te=test.iloc[:,1:].values\n",
    "y_te=test.iloc[:,0].values"
   ]
  },
  {
   "cell_type": "code",
   "execution_count": 4,
   "metadata": {
    "ExecuteTime": {
     "end_time": "2019-02-20T00:50:36.601232Z",
     "start_time": "2019-02-20T00:50:36.592319Z"
    }
   },
   "outputs": [],
   "source": [
    "def trainH(X_tr,y_tr,d):\n",
    "    n=X_tr.shape[0]\n",
    "    m=X_tr.shape[1]\n",
    "    h=0\n",
    "    e=np.zeros(m)\n",
    "    for i in range(0,m):\n",
    "        for j in range(0,n):\n",
    "            if X_tr[j][i]!=y_tr[j]:\n",
    "                e[i]+=d[j]\n",
    "    min=np.amin(e)\n",
    "    for i in range(0,m):\n",
    "        if e[i]==min:\n",
    "            h=i\n",
    "    return min,h\n",
    "\n",
    "def updateD(d,a,x,y,h):\n",
    "    n=d.shape[0]\n",
    "    for i in range(0,n):\n",
    "        if y[i]==x[i][h]:\n",
    "            d[i]=d[i]*np.exp(-a)\n",
    "        else:\n",
    "            d[i]=d[i]*np.exp(a)\n",
    "    d = d / np.linalg.norm(d,ord=1)\n",
    "    sum=0\n",
    "    for i in range(0,n):\n",
    "        sum+=d[i]\n",
    "    return d\n",
    "    \n",
    "\n",
    "def adaBoost_train(X_tr,y_tr,T):\n",
    "    n=X_tr.shape[0]\n",
    "    d=np.ones(n)\n",
    "    d=d*1/n\n",
    "    a=np.zeros(T)\n",
    "    h=np.zeros((T,), dtype=np.int)\n",
    "    for i in range(0,T):\n",
    "        er,h[i]=trainH(X_tr,y_tr,d)\n",
    "        a[i]=(1/2)*np.log((1-er)/er)\n",
    "        d=updateD(d,a[i],X_tr,y_tr,h[i])\n",
    "    return h,a\n",
    "\n",
    "def adaBoost_test(X_te,h,a,T):  \n",
    "    n=X_te.shape[0]\n",
    "    y_predict=np.zeros((n,), dtype=np.int)\n",
    "    for j in range(0,n):\n",
    "        sum=0\n",
    "        for i in range(0,T):\n",
    "            temp=h[i]\n",
    "            sum+=a[i]*X_te[j][temp]\n",
    "        if sum>=0:\n",
    "            y_predict[j]=1\n",
    "        else:\n",
    "            y_predict[j]=-1\n",
    "    return y_predict\n",
    "\n",
    "def adaBoost_evaluate(y_te,y_predict):\n",
    "    n=y_te.shape[0]\n",
    "    cnt=0\n",
    "    for i in range(0,n):\n",
    "        if y_te[i]==y_predict[i]:\n",
    "            cnt+=1\n",
    "    accuracy=cnt/n\n",
    "    return accuracy\n",
    "            "
   ]
  },
  {
   "cell_type": "code",
   "execution_count": 6,
   "metadata": {
    "ExecuteTime": {
     "end_time": "2019-02-20T00:50:44.162340Z",
     "start_time": "2019-02-20T00:50:43.467763Z"
    }
   },
   "outputs": [
    {
     "name": "stdout",
     "output_type": "stream",
     "text": [
      "adaBoost accuracy = 0.980000\n"
     ]
    }
   ],
   "source": [
    "T=200\n",
    "h,a=adaBoost_train(X_tr,y_tr,T)\n",
    "y_predict_adaB=adaBoost_test(X_te,h,a,T)\n",
    "accuracy_adaB=adaBoost_evaluate(y_te,y_predict_adaB)\n",
    "print(\"adaBoost accuracy = %f\" % accuracy_adaB)"
   ]
  },
  {
   "cell_type": "code",
   "execution_count": 7,
   "metadata": {
    "ExecuteTime": {
     "end_time": "2019-02-20T00:51:49.883959Z",
     "start_time": "2019-02-20T00:51:49.880503Z"
    }
   },
   "outputs": [],
   "source": [
    "def lossFunc(t):\n",
    "    train = pd.read_csv('house_votes_84_train.csv')\n",
    "    x=train.iloc[:,1:].values\n",
    "    y=train.iloc[:,0].values\n",
    "    n=y.shape[0]\n",
    "    sum=0\n",
    "    for i in range(0,n):\n",
    "        sum+=np.log(1+np.exp(-y[i]*np.dot(t,x[i])))\n",
    "    return sum"
   ]
  },
  {
   "cell_type": "code",
   "execution_count": 8,
   "metadata": {
    "ExecuteTime": {
     "end_time": "2019-02-20T00:51:52.315299Z",
     "start_time": "2019-02-20T00:51:52.310991Z"
    }
   },
   "outputs": [],
   "source": [
    "def LogisticRegression(t,x):\n",
    "    n=x.shape[0]\n",
    "    y_predict=np.zeros((n,), dtype=np.int)\n",
    "    for i in range(0,n):\n",
    "        p=1/(1+np.exp(-np.dot(t,x[i])))\n",
    "        if p>0.5:\n",
    "            y_predict[i]=1\n",
    "        else:\n",
    "            y_predict[i]=-1\n",
    "    return y_predict\n",
    "\n",
    "def LR_evaluate(y_te,y_predict):\n",
    "    n=y_te.shape[0]\n",
    "    cnt=0\n",
    "    for i in range(0,n):\n",
    "        if y_te[i]==y_predict[i]:\n",
    "            cnt+=1\n",
    "    accuracy=cnt/n\n",
    "    return accuracy"
   ]
  },
  {
   "cell_type": "code",
   "execution_count": 9,
   "metadata": {
    "ExecuteTime": {
     "end_time": "2019-02-20T00:51:57.783455Z",
     "start_time": "2019-02-20T00:51:55.099465Z"
    }
   },
   "outputs": [
    {
     "name": "stdout",
     "output_type": "stream",
     "text": [
      "Warning: Maximum number of iterations has been exceeded.\n",
      "Logistic Regression accuracy = 0.920000\n"
     ]
    }
   ],
   "source": [
    "n=X_tr.shape[1]\n",
    "t_0=np.zeros(n)\n",
    "min=optimize.fmin(lossFunc,t_0,maxiter=500)\n",
    "y_predict_LR=LogisticRegression(min,X_te)\n",
    "accuracy_LR=LR_evaluate(y_te,y_predict_LR)\n",
    "print(\"Logistic Regression accuracy = %f\" % accuracy_LR)"
   ]
  },
  {
   "cell_type": "code",
   "execution_count": 10,
   "metadata": {
    "ExecuteTime": {
     "end_time": "2019-02-20T00:55:50.483768Z",
     "start_time": "2019-02-20T00:55:50.345890Z"
    }
   },
   "outputs": [
    {
     "data": {
      "image/png": "[encoded data removed]",
      "text/plain": [
       "<Figure size 432x288 with 1 Axes>"
      ]
     },
     "metadata": {},
     "output_type": "display_data"
    }
   ],
   "source": [
    "fpr, tpr, _ = metrics.roc_curve(y_te, y_predict_adaB)\n",
    "auc = metrics.roc_auc_score(y_te, y_predict_adaB)\n",
    "plt.plot(fpr,tpr,label=\"Adaboost, auc=\"+str(auc))\n",
    "\n",
    "fpr, tpr, _ = metrics.roc_curve(y_te, y_predict_LR)\n",
    "auc = metrics.roc_auc_score(y_te, y_predict_LR)\n",
    "plt.plot(fpr,tpr,label=\"Logistic Regression, auc=\"+str(auc))\n",
    "\n",
    "plt.legend(loc=4)\n",
    "plt.title('ROC curve')\n",
    "plt.show()"
   ]
  },
  {
   "cell_type": "code",
   "execution_count": 15,
   "metadata": {
    "ExecuteTime": {
     "end_time": "2019-02-20T00:59:29.502667Z",
     "start_time": "2019-02-20T00:59:29.319767Z"
    }
   },
   "outputs": [
    {
     "name": "stdout",
     "output_type": "stream",
     "text": [
      "Coefficient of Logistic Regression: \n",
      " [[ 0.58441509  0.04176737 -0.17768556  0.57295138]\n",
      " [-0.04281271  0.25042777 -0.2994117  -0.19151863]\n",
      " [-0.72014161  0.14500613 -0.17457021  0.21958836]\n",
      " [ 0.44223912  0.19908995 -0.03687657 -0.65359931]]\n",
      "\n",
      "Feature ranking:\n",
      "1. bill_4 (0.356161)\n",
      "2. bill_3 (0.117329)\n",
      "3. bill_12 (0.104878)\n",
      "4. bill_5 (0.099745)\n",
      "5. bill_11 (0.056238)\n",
      "6. bill_8 (0.047510)\n",
      "7. bill_14 (0.044232)\n",
      "8. bill_9 (0.037803)\n",
      "9. bill_13 (0.026018)\n",
      "10. bill_15 (0.022104)\n",
      "11. bill_10 (0.017298)\n",
      "12. bill_7 (0.017252)\n",
      "13. bill_2 (0.016704)\n",
      "14. bill_1 (0.014776)\n",
      "15. bill_16 (0.011257)\n",
      "16. bill_6 (0.010694)\n"
     ]
    }
   ],
   "source": [
    "classifier = RandomForestClassifier(n_estimators=200, random_state=0)  \n",
    "classifier.fit(X_tr, y_tr) \n",
    "\n",
    "# Calculate feature importances\n",
    "importances = classifier.feature_importances_\n",
    "std = np.std([tree.feature_importances_ for tree in classifier.estimators_],\n",
    "             axis=0)\n",
    "indices = np.argsort(importances)[::-1]\n",
    "print (\"Coefficient of Logistic Regression: \\n\", min.reshape(4,4))\n",
    "# Print the feature ranking\n",
    "print(\"\\nFeature ranking:\")\n",
    "for f in range(X_tr.shape[1]):\n",
    "    n=indices[f]\n",
    "    print(\"%d. %s_%d (%f)\" % (f + 1, \"bill\", n+1, importances[indices[f]]))"
   ]
  },
  {
   "cell_type": "code",
   "execution_count": null,
   "metadata": {},
   "outputs": [],
   "source": []
  }
 ],
 "metadata": {
  "kernelspec": {
   "display_name": "Python 3",
   "language": "python",
   "name": "python3"
  },
  "language_info": {
   "codemirror_mode": {
    "name": "ipython",
    "version": 3
   },
   "file_extension": ".py",
   "mimetype": "text/x-python",
   "name": "python",
   "nbconvert_exporter": "python",
   "pygments_lexer": "ipython3",
   "version": "3.6.5"
  },
  "varInspector": {
   "cols": {
    "lenName": 16,
    "lenType": 16,
    "lenVar": 40
   },
   "kernels_config": {
    "python": {
     "delete_cmd_postfix": "",
     "delete_cmd_prefix": "del ",
     "library": "var_list.py",
     "varRefreshCmd": "print(var_dic_list())"
    },
    "r": {
     "delete_cmd_postfix": ") ",
     "delete_cmd_prefix": "rm(",
     "library": "var_list.r",
     "varRefreshCmd": "cat(var_dic_list()) "
    }
   },
   "types_to_exclude": [
    "module",
    "function",
    "builtin_function_or_method",
    "instance",
    "_Feature"
   ],
   "window_display": false
  }
 },
 "nbformat": 4,
 "nbformat_minor": 2
}
