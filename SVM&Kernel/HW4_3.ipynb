{
 "cells": [
  {
   "cell_type": "code",
   "execution_count": 2,
   "metadata": {
    "ExecuteTime": {
     "end_time": "2019-02-28T20:15:01.386944Z",
     "start_time": "2019-02-28T20:15:00.679421Z"
    }
   },
   "outputs": [
    {
     "name": "stderr",
     "output_type": "stream",
     "text": [
      "/anaconda3/lib/python3.6/site-packages/sklearn/cross_validation.py:41: DeprecationWarning: This module was deprecated in version 0.18 in favor of the model_selection module into which all the refactored classes and functions are moved. Also note that the interface of the new CV iterators are different from that of this module. This module will be removed in 0.20.\n",
      "  \"This module will be removed in 0.20.\", DeprecationWarning)\n"
     ]
    }
   ],
   "source": [
    "import numpy as np\n",
    "import pandas as pd\n",
    "import matplotlib.pyplot as plt\n",
    "from sklearn.cross_validation import train_test_split\n",
    "from sklearn.metrics import roc_curve, auc, accuracy_score\n",
    "%matplotlib inline"
   ]
  },
  {
   "cell_type": "code",
   "execution_count": 3,
   "metadata": {
    "ExecuteTime": {
     "end_time": "2019-02-28T20:15:01.454246Z",
     "start_time": "2019-02-28T20:15:01.393014Z"
    }
   },
   "outputs": [
    {
     "data": {
      "text/html": [
       "<div>\n",
       "<style scoped>\n",
       "    .dataframe tbody tr th:only-of-type {\n",
       "        vertical-align: middle;\n",
       "    }\n",
       "\n",
       "    .dataframe tbody tr th {\n",
       "        vertical-align: top;\n",
       "    }\n",
       "\n",
       "    .dataframe thead th {\n",
       "        text-align: right;\n",
       "    }\n",
       "</style>\n",
       "<table border=\"1\" class=\"dataframe\">\n",
       "  <thead>\n",
       "    <tr style=\"text-align: right;\">\n",
       "      <th></th>\n",
       "      <th>quality_assessment</th>\n",
       "      <th>pre-screening_results</th>\n",
       "      <th>MA_1</th>\n",
       "      <th>MA_2</th>\n",
       "      <th>MA_3</th>\n",
       "      <th>MA_4</th>\n",
       "      <th>MA_5</th>\n",
       "      <th>MA_6</th>\n",
       "      <th>exudate_1</th>\n",
       "      <th>exudate_2</th>\n",
       "      <th>exudate_3</th>\n",
       "      <th>exudate_4</th>\n",
       "      <th>exudate_5</th>\n",
       "      <th>exudate_6</th>\n",
       "      <th>exudate_7</th>\n",
       "      <th>exudate_8</th>\n",
       "      <th>distance_macula_opticdisk</th>\n",
       "      <th>diameter_opticdisk</th>\n",
       "      <th>am_fm</th>\n",
       "      <th>class_label</th>\n",
       "    </tr>\n",
       "  </thead>\n",
       "  <tbody>\n",
       "    <tr>\n",
       "      <th>0</th>\n",
       "      <td>1</td>\n",
       "      <td>1</td>\n",
       "      <td>22</td>\n",
       "      <td>22</td>\n",
       "      <td>22</td>\n",
       "      <td>19</td>\n",
       "      <td>18</td>\n",
       "      <td>14</td>\n",
       "      <td>49.895756</td>\n",
       "      <td>17.775994</td>\n",
       "      <td>5.270920</td>\n",
       "      <td>0.771761</td>\n",
       "      <td>0.018632</td>\n",
       "      <td>0.006864</td>\n",
       "      <td>0.003923</td>\n",
       "      <td>0.003923</td>\n",
       "      <td>0.486903</td>\n",
       "      <td>0.100025</td>\n",
       "      <td>1</td>\n",
       "      <td>0</td>\n",
       "    </tr>\n",
       "    <tr>\n",
       "      <th>1</th>\n",
       "      <td>1</td>\n",
       "      <td>1</td>\n",
       "      <td>24</td>\n",
       "      <td>24</td>\n",
       "      <td>22</td>\n",
       "      <td>18</td>\n",
       "      <td>16</td>\n",
       "      <td>13</td>\n",
       "      <td>57.709936</td>\n",
       "      <td>23.799994</td>\n",
       "      <td>3.325423</td>\n",
       "      <td>0.234185</td>\n",
       "      <td>0.003903</td>\n",
       "      <td>0.003903</td>\n",
       "      <td>0.003903</td>\n",
       "      <td>0.003903</td>\n",
       "      <td>0.520908</td>\n",
       "      <td>0.144414</td>\n",
       "      <td>0</td>\n",
       "      <td>0</td>\n",
       "    </tr>\n",
       "    <tr>\n",
       "      <th>2</th>\n",
       "      <td>1</td>\n",
       "      <td>1</td>\n",
       "      <td>62</td>\n",
       "      <td>60</td>\n",
       "      <td>59</td>\n",
       "      <td>54</td>\n",
       "      <td>47</td>\n",
       "      <td>33</td>\n",
       "      <td>55.831441</td>\n",
       "      <td>27.993933</td>\n",
       "      <td>12.687485</td>\n",
       "      <td>4.852282</td>\n",
       "      <td>1.393889</td>\n",
       "      <td>0.373252</td>\n",
       "      <td>0.041817</td>\n",
       "      <td>0.007744</td>\n",
       "      <td>0.530904</td>\n",
       "      <td>0.128548</td>\n",
       "      <td>0</td>\n",
       "      <td>1</td>\n",
       "    </tr>\n",
       "    <tr>\n",
       "      <th>3</th>\n",
       "      <td>1</td>\n",
       "      <td>1</td>\n",
       "      <td>55</td>\n",
       "      <td>53</td>\n",
       "      <td>53</td>\n",
       "      <td>50</td>\n",
       "      <td>43</td>\n",
       "      <td>31</td>\n",
       "      <td>40.467228</td>\n",
       "      <td>18.445954</td>\n",
       "      <td>9.118901</td>\n",
       "      <td>3.079428</td>\n",
       "      <td>0.840261</td>\n",
       "      <td>0.272434</td>\n",
       "      <td>0.007653</td>\n",
       "      <td>0.001531</td>\n",
       "      <td>0.483284</td>\n",
       "      <td>0.114790</td>\n",
       "      <td>0</td>\n",
       "      <td>0</td>\n",
       "    </tr>\n",
       "    <tr>\n",
       "      <th>4</th>\n",
       "      <td>1</td>\n",
       "      <td>1</td>\n",
       "      <td>44</td>\n",
       "      <td>44</td>\n",
       "      <td>44</td>\n",
       "      <td>41</td>\n",
       "      <td>39</td>\n",
       "      <td>27</td>\n",
       "      <td>18.026254</td>\n",
       "      <td>8.570709</td>\n",
       "      <td>0.410381</td>\n",
       "      <td>0.000000</td>\n",
       "      <td>0.000000</td>\n",
       "      <td>0.000000</td>\n",
       "      <td>0.000000</td>\n",
       "      <td>0.000000</td>\n",
       "      <td>0.475935</td>\n",
       "      <td>0.123572</td>\n",
       "      <td>0</td>\n",
       "      <td>1</td>\n",
       "    </tr>\n",
       "  </tbody>\n",
       "</table>\n",
       "</div>"
      ],
      "text/plain": [
       "   quality_assessment  pre-screening_results  MA_1  MA_2  MA_3  MA_4  MA_5  \\\n",
       "0                   1                      1    22    22    22    19    18   \n",
       "1                   1                      1    24    24    22    18    16   \n",
       "2                   1                      1    62    60    59    54    47   \n",
       "3                   1                      1    55    53    53    50    43   \n",
       "4                   1                      1    44    44    44    41    39   \n",
       "\n",
       "   MA_6  exudate_1  exudate_2  exudate_3  exudate_4  exudate_5  exudate_6  \\\n",
       "0    14  49.895756  17.775994   5.270920   0.771761   0.018632   0.006864   \n",
       "1    13  57.709936  23.799994   3.325423   0.234185   0.003903   0.003903   \n",
       "2    33  55.831441  27.993933  12.687485   4.852282   1.393889   0.373252   \n",
       "3    31  40.467228  18.445954   9.118901   3.079428   0.840261   0.272434   \n",
       "4    27  18.026254   8.570709   0.410381   0.000000   0.000000   0.000000   \n",
       "\n",
       "   exudate_7  exudate_8  distance_macula_opticdisk  diameter_opticdisk  am_fm  \\\n",
       "0   0.003923   0.003923                   0.486903            0.100025      1   \n",
       "1   0.003903   0.003903                   0.520908            0.144414      0   \n",
       "2   0.041817   0.007744                   0.530904            0.128548      0   \n",
       "3   0.007653   0.001531                   0.483284            0.114790      0   \n",
       "4   0.000000   0.000000                   0.475935            0.123572      0   \n",
       "\n",
       "   class_label  \n",
       "0            0  \n",
       "1            0  \n",
       "2            1  \n",
       "3            0  \n",
       "4            1  "
      ]
     },
     "execution_count": 3,
     "metadata": {},
     "output_type": "execute_result"
    }
   ],
   "source": [
    "df = pd.read_csv('messidor.csv')\n",
    "df.head()\n",
    "#train,test = train_test_split(df, test_size=.75)"
   ]
  },
  {
   "cell_type": "code",
   "execution_count": 9,
   "metadata": {
    "ExecuteTime": {
     "end_time": "2019-02-28T20:16:01.340629Z",
     "start_time": "2019-02-28T20:16:01.334284Z"
    }
   },
   "outputs": [],
   "source": [
    "from sklearn import preprocessing\n",
    "X=df.iloc[:,0:19].values\n",
    "normalized_X = preprocessing.normalize(X,axis=0)\n",
    "y=df.iloc[:,19].values\n",
    "n=y.shape[0]\n",
    "for i in range(n):\n",
    "    if y[i]==0:\n",
    "        y[i]=-1\n",
    "X_train, X_test, y_train, y_test = train_test_split(normalized_X, y, test_size=0.4)\n",
    "y_test=y_test.reshape(-1,1)"
   ]
  },
  {
   "cell_type": "code",
   "execution_count": 16,
   "metadata": {
    "ExecuteTime": {
     "end_time": "2019-02-28T20:18:08.636272Z",
     "start_time": "2019-02-28T20:18:08.603296Z"
    }
   },
   "outputs": [
    {
     "name": "stdout",
     "output_type": "stream",
     "text": [
      "learned weights = \n",
      " [[ 2.95269298e-07 -5.22891314e-06  2.41140362e-05  2.17063055e-05\n",
      "   1.90349664e-05  1.61504820e-05  1.41789097e-05  1.18423152e-05\n",
      "   4.17229728e-06 -3.26510650e-06 -1.66561055e-06 -1.70908409e-06\n",
      "   3.06475606e-06  4.35982329e-06  6.85274692e-06  6.60599138e-06\n",
      "  -3.36315196e-08  2.76470769e-07 -7.62492852e-06]]\n",
      "\n",
      "\n",
      "learned intercept = \n",
      " [0.99999566]\n",
      "\n",
      "\n",
      "SVM train accuracy =  0.5246376811594203\n",
      "\n",
      "\n",
      "SVM test accuracy =  0.5401301518438177\n"
     ]
    }
   ],
   "source": [
    "from sklearn.svm import SVC\n",
    "#SVM\n",
    "clf = SVC(C=0.00001,kernel='linear')\n",
    "clf.fit(X_train, y_train)\n",
    "w=clf.coef_\n",
    "b=clf.intercept_\n",
    "print(\"learned weights = \\n\",w)\n",
    "print(\"\\n\")\n",
    "print(\"learned intercept = \\n\",b)\n",
    "y_pred=clf.predict(X_test).reshape(-1,1)\n",
    "train_acc=clf.score(X_train,y_train)\n",
    "test_acc=clf.score(X_test,y_test)\n",
    "print('\\n')\n",
    "print(\"SVM train accuracy = \",train_acc)\n",
    "print('\\n')\n",
    "print(\"SVM test accuracy = \",test_acc)"
   ]
  },
  {
   "cell_type": "code",
   "execution_count": 11,
   "metadata": {
    "ExecuteTime": {
     "end_time": "2019-02-28T20:16:06.044523Z",
     "start_time": "2019-02-28T20:16:06.041621Z"
    }
   },
   "outputs": [],
   "source": [
    "def error_sum(w,b,X,y):\n",
    "    n=y.shape[0]\n",
    "    ans=0\n",
    "    for i in range(n):\n",
    "        temp0=np.dot(w,X_train[i])+b\n",
    "        temp1=1-temp0*y_train[i]\n",
    "        temp2=0\n",
    "        if temp1>0:\n",
    "            temp2=temp1\n",
    "        ans+=temp2\n",
    "    return ans"
   ]
  },
  {
   "cell_type": "code",
   "execution_count": 12,
   "metadata": {
    "ExecuteTime": {
     "end_time": "2019-02-28T20:16:27.381785Z",
     "start_time": "2019-02-28T20:16:12.037950Z"
    }
   },
   "outputs": [
    {
     "name": "stderr",
     "output_type": "stream",
     "text": [
      "  1%|          | 6/1000 [00:00<00:17, 56.31it/s]"
     ]
    },
    {
     "name": "stdout",
     "output_type": "stream",
     "text": [
      "(690, 19)\n"
     ]
    },
    {
     "name": "stderr",
     "output_type": "stream",
     "text": [
      "100%|██████████| 1000/1000 [00:14<00:00, 68.20it/s]\n"
     ]
    },
    {
     "data": {
      "text/plain": [
       "Text(0.5,1,'C vs the sum of training errors values')"
      ]
     },
     "execution_count": 12,
     "metadata": {},
     "output_type": "execute_result"
    },
    {
     "data": {
      "image/png": "[encoded data removed]",
      "text/plain": [
       "<Figure size 432x288 with 1 Axes>"
      ]
     },
     "metadata": {},
     "output_type": "display_data"
    }
   ],
   "source": [
    "from tqdm import tqdm\n",
    "print(np.shape(X_train))\n",
    "for C in tqdm(range(1,1001)):\n",
    "    clf = SVC(C=C,kernel='linear')\n",
    "    clf.fit(X_train, y_train)\n",
    "    w=clf.coef_\n",
    "    b=clf.intercept_\n",
    "    ans=error_sum(w,b,X_train,y_train)\n",
    "    plt.scatter(C,ans,s=10,c='g')\n",
    "clf = SVC(C=0.00001,kernel='linear')\n",
    "clf.fit(X_train, y_train)\n",
    "w=clf.coef_\n",
    "b=clf.intercept_\n",
    "ans=error_sum(w,b,X_train,y_train)\n",
    "plt.scatter(0,ans,s=10,c='g')\n",
    "plt.xlabel('C')\n",
    "plt.ylabel('sum of training error')\n",
    "plt.title('C vs the sum of training errors values')"
   ]
  },
  {
   "cell_type": "code",
   "execution_count": 13,
   "metadata": {
    "ExecuteTime": {
     "end_time": "2019-02-28T20:16:58.842379Z",
     "start_time": "2019-02-28T20:16:40.972937Z"
    }
   },
   "outputs": [
    {
     "name": "stderr",
     "output_type": "stream",
     "text": [
      "100%|██████████| 1000/1000 [00:17<00:00, 53.82it/s]\n"
     ]
    },
    {
     "name": "stdout",
     "output_type": "stream",
     "text": [
      "test_accuracy_max =  0.7071583514099783\n",
      "test_accuracy_max C =  964\n"
     ]
    },
    {
     "data": {
      "image/png": "[encoded data removed]",
      "text/plain": [
       "<Figure size 432x288 with 1 Axes>"
      ]
     },
     "metadata": {},
     "output_type": "display_data"
    }
   ],
   "source": [
    "from tqdm import tqdm\n",
    "max=0\n",
    "C_max=0\n",
    "for C in tqdm(range(1,1001)):\n",
    "    clf = SVC(C=C,kernel='linear')\n",
    "    clf.fit(X_train, y_train)\n",
    "    y_pred=clf.predict(X_test).reshape(-1,1)\n",
    "    test_acc=clf.score(X_test,y_test)\n",
    "    if test_acc>max:\n",
    "        max=test_acc\n",
    "        C_max=C\n",
    "    plt.scatter(C,test_acc,s=10,c='g')\n",
    "clf = SVC(C=0.00001,kernel='linear')\n",
    "clf.fit(X_train, y_train)\n",
    "y_pred=clf.predict(X_test).reshape(-1,1)\n",
    "test_acc=clf.score(X_test,y_test)\n",
    "plt.scatter(0,test_acc,s=10,c='g')\n",
    "plt.xlabel('C')\n",
    "plt.ylabel('testing accuracy')\n",
    "plt.title('C vs testing accuracy')\n",
    "print('test_accuracy_max = ', max)\n",
    "print('test_accuracy_max C = ', C_max)"
   ]
  },
  {
   "cell_type": "code",
   "execution_count": 14,
   "metadata": {
    "ExecuteTime": {
     "end_time": "2019-02-28T20:17:10.431448Z",
     "start_time": "2019-02-28T20:17:06.508103Z"
    }
   },
   "outputs": [
    {
     "name": "stderr",
     "output_type": "stream",
     "text": [
      "100%|██████████| 99/99 [00:03<00:00, 26.62it/s]\n"
     ]
    },
    {
     "data": {
      "image/png": "[encoded data removed]",
      "text/plain": [
       "<Figure size 432x288 with 1 Axes>"
      ]
     },
     "metadata": {},
     "output_type": "display_data"
    }
   ],
   "source": [
    "for N in tqdm(range(1,100)):\n",
    "    clf = SVC(C=964,kernel='poly',degree=N)\n",
    "    clf.fit(X_train, y_train)\n",
    "    y_pred=clf.predict(X_test).reshape(-1,1)\n",
    "    train_acc=clf.score(X_train,y_train)\n",
    "    test_acc=clf.score(X_test,y_test)\n",
    "    plt.scatter(N,train_acc,c='b')\n",
    "    plt.scatter(N,test_acc,c='r')"
   ]
  },
  {
   "cell_type": "code",
   "execution_count": 15,
   "metadata": {
    "ExecuteTime": {
     "end_time": "2019-02-28T20:18:08.576419Z",
     "start_time": "2019-02-28T20:17:17.716291Z"
    }
   },
   "outputs": [
    {
     "name": "stderr",
     "output_type": "stream",
     "text": [
      "100%|██████████| 1000/1000 [00:49<00:00, 20.16it/s]\n"
     ]
    },
    {
     "name": "stdout",
     "output_type": "stream",
     "text": [
      "train_accuracy_max =  1.0\n",
      "train_accuracy_max gamma =  1418.360998078344\n",
      "test_accuracy_max =  0.7635574837310195\n",
      "test_accuracy_max gamma =  11.851713691863404\n"
     ]
    },
    {
     "data": {
      "image/png": "[encoded data removed]",
      "text/plain": [
       "<Figure size 432x288 with 1 Axes>"
      ]
     },
     "metadata": {},
     "output_type": "display_data"
    }
   ],
   "source": [
    "train_max=0\n",
    "test_max=0\n",
    "gamma_train_max=0\n",
    "gamma_test_max=0\n",
    "for N in tqdm(np.linspace(-10,10,1000)):\n",
    "    clf = SVC(C=964,kernel='rbf',gamma=np.exp(N))\n",
    "    clf.fit(X_train, y_train)\n",
    "    y_pred=clf.predict(X_test).reshape(-1,1)\n",
    "    train_acc=clf.score(X_train,y_train)\n",
    "    test_acc=clf.score(X_test,y_test)\n",
    "    if train_acc>train_max:\n",
    "        train_max=train_acc\n",
    "        gamma_train_max=np.exp(N)\n",
    "    if test_acc>test_max:\n",
    "        test_max=test_acc\n",
    "        gamma_test_max=np.exp(N)\n",
    "    plt.scatter(np.exp(N),train_acc,s=1,c='b')\n",
    "    plt.scatter(np.exp(N),test_acc,s=1,c='r')\n",
    "plt.title('gamma vs training(blue) & testing(red) accuracy')\n",
    "plt.xlabel('gamma')\n",
    "plt.ylabel('accuracy')\n",
    "print('train_accuracy_max = ',train_max)\n",
    "print('train_accuracy_max gamma = ',gamma_train_max)\n",
    "print('test_accuracy_max = ',test_max)\n",
    "print('test_accuracy_max gamma = ',gamma_test_max)"
   ]
  },
  {
   "cell_type": "code",
   "execution_count": null,
   "metadata": {},
   "outputs": [],
   "source": []
  }
 ],
 "metadata": {
  "kernelspec": {
   "display_name": "Python 3",
   "language": "python",
   "name": "python3"
  },
  "language_info": {
   "codemirror_mode": {
    "name": "ipython",
    "version": 3
   },
   "file_extension": ".py",
   "mimetype": "text/x-python",
   "name": "python",
   "nbconvert_exporter": "python",
   "pygments_lexer": "ipython3",
   "version": "3.6.5"
  },
  "varInspector": {
   "cols": {
    "lenName": 16,
    "lenType": 16,
    "lenVar": 40
   },
   "kernels_config": {
    "python": {
     "delete_cmd_postfix": "",
     "delete_cmd_prefix": "del ",
     "library": "var_list.py",
     "varRefreshCmd": "print(var_dic_list())"
    },
    "r": {
     "delete_cmd_postfix": ") ",
     "delete_cmd_prefix": "rm(",
     "library": "var_list.r",
     "varRefreshCmd": "cat(var_dic_list()) "
    }
   },
   "types_to_exclude": [
    "module",
    "function",
    "builtin_function_or_method",
    "instance",
    "_Feature"
   ],
   "window_display": false
  }
 },
 "nbformat": 4,
 "nbformat_minor": 2
}
